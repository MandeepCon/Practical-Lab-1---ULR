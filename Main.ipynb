{
 "cells": [
  {
   "cell_type": "markdown",
   "id": "81c14f1c",
   "metadata": {},
   "source": [
    "## **Practical Lab 1 - Univariate Linear Regression**"
   ]
  },
  {
   "cell_type": "markdown",
   "id": "98acda17",
   "metadata": {},
   "source": [
    "### Predicting California Housing Prices\n",
    "\n",
    "Name: Mandeep Singh Brar  \n",
    "Student ID: 8989367  \n",
    "Course Name: Foundations of Machine Learning Frameworks  \n",
    "Course Code: CSCN8010"
   ]
  },
  {
   "cell_type": "code",
   "execution_count": null,
   "id": "ea9f04e1",
   "metadata": {},
   "outputs": [],
   "source": []
  }
 ],
 "metadata": {
  "kernelspec": {
   "display_name": "Python 3",
   "language": "python",
   "name": "python3"
  },
  "language_info": {
   "name": "python",
   "version": "3.12.3"
  }
 },
 "nbformat": 4,
 "nbformat_minor": 5
}
