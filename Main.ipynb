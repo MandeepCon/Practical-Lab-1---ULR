{
 "cells": [
  {
   "cell_type": "markdown",
   "id": "81c14f1c",
   "metadata": {},
   "source": [
    "## **Practical Lab 1 - Univariate Linear Regression**"
   ]
  },
  {
   "cell_type": "markdown",
   "id": "98acda17",
   "metadata": {},
   "source": [
    "### Predicting Housing pricing in California\n",
    "\n",
    "**Name:** Mandeep Singh Brar  \n",
    "**Student ID:** 8989367  \n",
    "**Course Name:** Foundations of Machine Learning Frameworks  \n",
    "**Course Code:** CSCN8010  \n",
    "\n",
    "- **GitHub Repository:** https://github.com/MandeepCon/Practical-Lab-1---ULR\n",
    "- **GitHub Live Pages:** https://mandeepcon.github.io/Practical-Lab-1---ULR/"
   ]
  },
  {
   "cell_type": "markdown",
   "id": "6b9431d3",
   "metadata": {},
   "source": [
    "### **Introduction**\n",
    "\n",
    "Throught the assignment, I am using the univariate linear regression on the California housing dataset to perform the correlation between the median house values and three independent variables. Such as **median income, population and number of households**. I will be evaluting the individual predictive ability of each predictor by analyzing and accessing the different models of the regression. Afterwords, I will identify the variable that influence the home prices more. Throughtout this statistical techniques and data visualization to provide a clear, data-driven insights essential to the trends in california real estate market. "
   ]
  },
  {
   "cell_type": "markdown",
   "id": "c664b468",
   "metadata": {},
   "source": [
    "### **Framing the Problem**\n",
    "- Apply univariate linear regression to predict the model median house value in California.  \n",
    "- Train three separate models using Median income, population, and number of households as individual predictors.  \n",
    "- Evaluate each model with MSE, MAE, and R² metrics.  \n",
    "\n",
    "Identify the single most effective predictor for house value estimation.  "
   ]
  },
  {
   "cell_type": "markdown",
   "id": "fffd89ea",
   "metadata": {},
   "source": [
    "### **Importing the necessary Python libraries**"
   ]
  },
  {
   "cell_type": "code",
   "execution_count": 7,
   "id": "7535a7c4",
   "metadata": {},
   "outputs": [],
   "source": [
    "import pandas as pd              # Data manipulation and analysis\n",
    "import numpy as np               # Numerical operations\n",
    "import matplotlib.pyplot as plt  # Data visualization\n",
    "import seaborn as sns            # Statistical data visualization\n",
    "from sklearn.linear_model import LinearRegression  # Linear regression modeling\n",
    "from sklearn.metrics import mean_squared_error, mean_absolute_error, r2_score  # Model evaluation metrics"
   ]
  },
  {
   "cell_type": "markdown",
   "id": "491ffdd9",
   "metadata": {},
   "source": [
    "### **Getting the Data**\n",
    "I have taken the dataset from kaggle. Dataset contains the information about the housing in California. \n",
    "\n",
    "Here is dataset link: [California Housing CSV](https://www.kaggle.com/datasets/camnugent/california-housing-prices)"
   ]
  }
 ],
 "metadata": {
  "kernelspec": {
   "display_name": "Python 3",
   "language": "python",
   "name": "python3"
  },
  "language_info": {
   "codemirror_mode": {
    "name": "ipython",
    "version": 3
   },
   "file_extension": ".py",
   "mimetype": "text/x-python",
   "name": "python",
   "nbconvert_exporter": "python",
   "pygments_lexer": "ipython3",
   "version": "3.12.3"
  }
 },
 "nbformat": 4,
 "nbformat_minor": 5
}
