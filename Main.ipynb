{
 "cells": [
  {
   "cell_type": "markdown",
   "id": "81c14f1c",
   "metadata": {},
   "source": [
    "## **Practical Lab 1 - Univariate Linear Regression**"
   ]
  },
  {
   "cell_type": "markdown",
   "id": "98acda17",
   "metadata": {},
   "source": [
    "### Predicting Housing pricing in California\n",
    "\n",
    "Name: Mandeep Singh Brar  \n",
    "Student ID: 8989367  \n",
    "Course Name: Foundations of Machine Learning Frameworks  \n",
    "Course Code: CSCN8010  \n",
    "\n",
    "- **GitHub Repository:** https://github.com/MandeepCon/Practical-Lab-1---ULR\n",
    "- **Live Webpage (GitHub Pages):** https://mandeepcon.github.io/Practical-Lab-1---ULR/"
   ]
  },
  {
   "cell_type": "markdown",
   "id": "6b9431d3",
   "metadata": {},
   "source": [
    "### **Introduction**\n",
    "\n",
    "Throught the assignment, I am using the univariate linear regression on the California housing dataset to measure the correlation between median house value and three independent variables: **median income, population, and number of households**. My purpose is to evaluate the individual predictive ability of each predictor by fitting and assessing different regression models, thereby identifying the variable that most significantly influences home prices. This analysis utilises statistical techniques and data visualisations to deliver clear, data-driven insights essential to the trends in California's real estate market."
   ]
  }
 ],
 "metadata": {
  "kernelspec": {
   "display_name": "Python 3",
   "language": "python",
   "name": "python3"
  },
  "language_info": {
   "name": "python",
   "version": "3.12.3"
  }
 },
 "nbformat": 4,
 "nbformat_minor": 5
}
